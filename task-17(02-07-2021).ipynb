{
 "cells": [
  {
   "cell_type": "markdown",
   "id": "fdb6d2c6",
   "metadata": {},
   "source": [
    "- apply polynomial regression by taking two input features/predictors\n",
    "- headbrain.csv"
   ]
  },
  {
   "cell_type": "code",
   "execution_count": 2,
   "id": "f0bf969a",
   "metadata": {},
   "outputs": [],
   "source": [
    "import numpy as np\n",
    "import pandas as pd\n",
    "import matplotlib.pyplot as plt\n",
    "import seaborn as sns"
   ]
  },
  {
   "cell_type": "code",
   "execution_count": 1,
   "id": "a3efd9a3",
   "metadata": {},
   "outputs": [
    {
     "name": "stdout",
     "output_type": "stream",
     "text": [
      "Defaulting to user installation because normal site-packages is not writeable\n",
      "Requirement already satisfied: seaborn in c:\\users\\user\\appdata\\roaming\\python\\python39\\site-packages (0.11.1)\n",
      "Requirement already satisfied: numpy>=1.15 in c:\\users\\user\\appdata\\roaming\\python\\python39\\site-packages (from seaborn) (1.21.1)\n",
      "Requirement already satisfied: scipy>=1.0 in c:\\users\\user\\appdata\\roaming\\python\\python39\\site-packages (from seaborn) (1.7.0)\n",
      "Requirement already satisfied: matplotlib>=2.2 in c:\\users\\user\\appdata\\roaming\\python\\python39\\site-packages (from seaborn) (3.4.2)\n",
      "Requirement already satisfied: pandas>=0.23 in c:\\users\\user\\appdata\\roaming\\python\\python39\\site-packages (from seaborn) (1.3.0)\n",
      "Requirement already satisfied: pyparsing>=2.2.1 in c:\\program files\\python39\\lib\\site-packages (from matplotlib>=2.2->seaborn) (2.4.7)\n",
      "Requirement already satisfied: cycler>=0.10 in c:\\users\\user\\appdata\\roaming\\python\\python39\\site-packages (from matplotlib>=2.2->seaborn) (0.10.0)\n",
      "Requirement already satisfied: pillow>=6.2.0 in c:\\users\\user\\appdata\\roaming\\python\\python39\\site-packages (from matplotlib>=2.2->seaborn) (8.3.1)\n",
      "Requirement already satisfied: python-dateutil>=2.7 in c:\\program files\\python39\\lib\\site-packages (from matplotlib>=2.2->seaborn) (2.8.1)\n",
      "Requirement already satisfied: kiwisolver>=1.0.1 in c:\\users\\user\\appdata\\roaming\\python\\python39\\site-packages (from matplotlib>=2.2->seaborn) (1.3.1)\n",
      "Requirement already satisfied: six in c:\\program files\\python39\\lib\\site-packages (from cycler>=0.10->matplotlib>=2.2->seaborn) (1.16.0)\n",
      "Requirement already satisfied: pytz>=2017.3 in c:\\users\\user\\appdata\\roaming\\python\\python39\\site-packages (from pandas>=0.23->seaborn) (2021.1)\n"
     ]
    }
   ],
   "source": [
    "!pip install seaborn"
   ]
  },
  {
   "cell_type": "code",
   "execution_count": 4,
   "id": "65986384",
   "metadata": {},
   "outputs": [
    {
     "data": {
      "text/html": [
       "<div>\n",
       "<style scoped>\n",
       "    .dataframe tbody tr th:only-of-type {\n",
       "        vertical-align: middle;\n",
       "    }\n",
       "\n",
       "    .dataframe tbody tr th {\n",
       "        vertical-align: top;\n",
       "    }\n",
       "\n",
       "    .dataframe thead th {\n",
       "        text-align: right;\n",
       "    }\n",
       "</style>\n",
       "<table border=\"1\" class=\"dataframe\">\n",
       "  <thead>\n",
       "    <tr style=\"text-align: right;\">\n",
       "      <th></th>\n",
       "      <th>Gender</th>\n",
       "      <th>Age Range</th>\n",
       "      <th>Head Size(cm^3)</th>\n",
       "      <th>Brain Weight(grams)</th>\n",
       "    </tr>\n",
       "  </thead>\n",
       "  <tbody>\n",
       "    <tr>\n",
       "      <th>0</th>\n",
       "      <td>1</td>\n",
       "      <td>1</td>\n",
       "      <td>4512</td>\n",
       "      <td>1530</td>\n",
       "    </tr>\n",
       "    <tr>\n",
       "      <th>1</th>\n",
       "      <td>1</td>\n",
       "      <td>1</td>\n",
       "      <td>3738</td>\n",
       "      <td>1297</td>\n",
       "    </tr>\n",
       "    <tr>\n",
       "      <th>2</th>\n",
       "      <td>1</td>\n",
       "      <td>1</td>\n",
       "      <td>4261</td>\n",
       "      <td>1335</td>\n",
       "    </tr>\n",
       "    <tr>\n",
       "      <th>3</th>\n",
       "      <td>1</td>\n",
       "      <td>1</td>\n",
       "      <td>3777</td>\n",
       "      <td>1282</td>\n",
       "    </tr>\n",
       "    <tr>\n",
       "      <th>4</th>\n",
       "      <td>1</td>\n",
       "      <td>1</td>\n",
       "      <td>4177</td>\n",
       "      <td>1590</td>\n",
       "    </tr>\n",
       "  </tbody>\n",
       "</table>\n",
       "</div>"
      ],
      "text/plain": [
       "   Gender  Age Range  Head Size(cm^3)  Brain Weight(grams)\n",
       "0       1          1             4512                 1530\n",
       "1       1          1             3738                 1297\n",
       "2       1          1             4261                 1335\n",
       "3       1          1             3777                 1282\n",
       "4       1          1             4177                 1590"
      ]
     },
     "execution_count": 4,
     "metadata": {},
     "output_type": "execute_result"
    }
   ],
   "source": [
    "data = pd.read_csv(\"headbrain.csv\")\n",
    "data.head()"
   ]
  },
  {
   "cell_type": "code",
   "execution_count": 5,
   "id": "3fb91836",
   "metadata": {},
   "outputs": [
    {
     "data": {
      "text/plain": [
       "Index(['Gender', 'Age Range', 'Head Size(cm^3)', 'Brain Weight(grams)'], dtype='object')"
      ]
     },
     "execution_count": 5,
     "metadata": {},
     "output_type": "execute_result"
    }
   ],
   "source": [
    "data.columns"
   ]
  },
  {
   "cell_type": "code",
   "execution_count": 6,
   "id": "a8f2d250",
   "metadata": {},
   "outputs": [
    {
     "data": {
      "text/plain": [
       "(237, 4)"
      ]
     },
     "execution_count": 6,
     "metadata": {},
     "output_type": "execute_result"
    }
   ],
   "source": [
    "data.shape"
   ]
  },
  {
   "cell_type": "code",
   "execution_count": 7,
   "id": "0b27b9ec",
   "metadata": {},
   "outputs": [
    {
     "data": {
      "image/png": "[encoded data removed]",
      "text/plain": [
       "<Figure size 432x288 with 1 Axes>"
      ]
     },
     "metadata": {
      "needs_background": "light"
     },
     "output_type": "display_data"
    }
   ],
   "source": [
    "plt.scatter(data[\"Head Size(cm^3)\"],data[\"Brain Weight(grams)\"])\n",
    "plt.show()"
   ]
  },
  {
   "cell_type": "code",
   "execution_count": 8,
   "id": "93eb4d6c",
   "metadata": {},
   "outputs": [],
   "source": [
    "x = data[[\"Head Size(cm^3)\"]]\n",
    "y = data[\"Brain Weight(grams)\"]"
   ]
  },
  {
   "cell_type": "code",
   "execution_count": 9,
   "id": "3a418b97",
   "metadata": {},
   "outputs": [],
   "source": [
    "from sklearn.preprocessing import PolynomialFeatures"
   ]
  },
  {
   "cell_type": "code",
   "execution_count": 10,
   "id": "0ebc8e4f",
   "metadata": {},
   "outputs": [],
   "source": [
    "poly = PolynomialFeatures(degree = 3)\n",
    "x_poly = poly.fit_transform(x)"
   ]
  },
  {
   "cell_type": "code",
   "execution_count": 11,
   "id": "cf4a9997",
   "metadata": {},
   "outputs": [],
   "source": [
    "from sklearn.linear_model import LinearRegression"
   ]
  },
  {
   "cell_type": "code",
   "execution_count": 12,
   "id": "28c72258",
   "metadata": {},
   "outputs": [
    {
     "data": {
      "text/plain": [
       "LinearRegression()"
      ]
     },
     "execution_count": 12,
     "metadata": {},
     "output_type": "execute_result"
    }
   ],
   "source": [
    "model = LinearRegression()\n",
    "model.fit(x_poly,y)"
   ]
  },
  {
   "cell_type": "code",
   "execution_count": 13,
   "id": "c091ecad",
   "metadata": {},
   "outputs": [
    {
     "data": {
      "text/plain": [
       "array([1506.69195659, 1313.27584746, 1439.53128175, 1322.6935154 ,\n",
       "       1418.57723124, 1275.40778514, 1324.61701991, 1268.77977366,\n",
       "       1282.47423718, 1371.54441754, 1238.3013622 , 1374.1626952 ,\n",
       "       1289.2237416 , 1426.24448246, 1335.87160166, 1346.3548567 ,\n",
       "       1252.68760851, 1244.47407188, 1134.31687367, 1482.20606702,\n",
       "       1346.83054696, 1386.81591821, 1329.17554925, 1306.46640913,\n",
       "       1578.75638494, 1481.93431378, 1384.42264223, 1381.07709705,\n",
       "       1241.26216431, 1418.08495051, 1325.0974985 , 1327.25777127,\n",
       "       1400.52918083, 1414.64657873, 1413.91146886, 1331.56973445,\n",
       "       1260.52719456, 1315.69755057, 1208.02692948, 1251.37079776,\n",
       "       1366.78843145, 1254.78833053, 1453.33698327, 1329.17554925,\n",
       "       1343.26140843, 1383.94436043, 1451.53056356, 1157.09990147,\n",
       "       1289.47257812, 1290.21861411, 1349.92132427, 1326.53801567,\n",
       "       1441.81227232, 1390.8922434 , 1378.69064577, 1242.33487172,\n",
       "       1349.68363883, 1415.87306607, 1360.37369872, 1296.40889294,\n",
       "       1343.9755226 , 1224.6333264 , 1487.12147956, 1437.51004753,\n",
       "       1310.60593114, 1206.59413187, 1230.69075372, 1218.78452005,\n",
       "       1483.83949263, 1470.64155545, 1377.73674505, 1342.07086288,\n",
       "       1404.89029274, 1389.45236112, 1333.96080361, 1224.91019421,\n",
       "       1268.52350642, 1215.97571129, 1359.18613828, 1336.58771148,\n",
       "       1335.39406472, 1341.59451386, 1183.08277051, 1273.3754371 ,\n",
       "       1359.89866934, 1340.16498948, 1200.82119507, 1228.22117584,\n",
       "       1255.05039221, 1353.72314478, 1414.40147745, 1203.42735559,\n",
       "       1294.68029642, 1351.82247769, 1304.02338504, 1323.17463448,\n",
       "       1246.33916691, 1250.84323248, 1292.70035435, 1247.6676016 ,\n",
       "       1252.16124324, 1336.34903392, 1346.3548567 , 1294.4330631 ,\n",
       "       1283.72876098, 1291.21223409, 1383.46619791, 1226.29232508,\n",
       "       1355.86099064, 1483.83949263, 1302.7995368 , 1259.74784341,\n",
       "       1271.84711591, 1277.68694395, 1221.85647031, 1253.21349766,\n",
       "       1276.42167898, 1352.06008476, 1403.19231709, 1360.84873762,\n",
       "       1226.29232508, 1424.25898754, 1499.89727197, 1282.72531458,\n",
       "       1388.01378195, 1323.89600733, 1224.07914692, 1143.88712863,\n",
       "       1388.49316724, 1274.64637203, 1295.66849953, 1261.82390255,\n",
       "       1386.81591821, 1295.91536915, 1047.8387127 , 1236.40879672,\n",
       "       1326.05799417, 1198.78460766, 1137.30737845, 1159.00326265,\n",
       "       1272.10208079, 1261.30554928, 1160.26797848, 1236.95020526,\n",
       "       1352.77286315, 1351.82247769, 1226.84415212, 1188.47255255,\n",
       "       1240.45625975, 1132.64742887, 1230.14295807, 1204.8693069 ,\n",
       "       1299.1182315 , 1237.22070631, 1340.87984325, 1154.23059449,\n",
       "       1192.0327394 , 1305.7341444 , 1377.25993149, 1189.06773194,\n",
       "       1126.25038215, 1323.17463448, 1265.95517157, 1195.8604614 ,\n",
       "       1252.68760851, 1129.96424663, 1182.78156923, 1214.84782266,\n",
       "       1328.93594868, 1270.5708082 , 1150.70015248, 1254.26385645,\n",
       "       1271.84711591, 1309.87662687, 1282.97630539, 1169.02867007,\n",
       "       1281.46905602, 1269.29200288, 1370.83068091, 1262.08291505,\n",
       "       1301.32879903, 1154.86970603, 1377.02155795, 1162.15880916,\n",
       "       1247.93291454, 1289.72133553, 1287.23016802, 1125.57206238,\n",
       "       1224.91019421, 1304.75693864, 1157.09990147, 1213.71741304,\n",
       "       1101.57269377, 1300.83802958, 1268.01066529, 1013.50045951,\n",
       "       1121.82425075, 1210.88024334, 1251.63439963, 1197.3247154 ,\n",
       "       1215.41208099, 1176.71768411, 1191.44118245, 1340.40329488,\n",
       "       1124.89279192, 1302.06446031, 1227.11984704, 1374.63897481,\n",
       "       1203.42735559,  990.68431522, 1078.59477323, 1274.13828641,\n",
       "       1079.3405945 , 1097.63607513, 1275.66139986, 1154.23059449,\n",
       "       1182.17860225, 1158.68656089, 1188.7702335 , 1223.52437379,\n",
       "       1221.29930039, 1050.60355326, 1313.76059703, 1247.93291454,\n",
       "       1290.96394555, 1307.92932639, 1193.50849609, 1425.25111944,\n",
       "       1312.54833072, 1173.65684074, 1300.34699468, 1305.00133228,\n",
       "       1172.42702062, 1224.91019421, 1178.24082862, 1213.15125733,\n",
       "       1224.07914692])"
      ]
     },
     "execution_count": 13,
     "metadata": {},
     "output_type": "execute_result"
    }
   ],
   "source": [
    "y_pred = model.predict(x_poly)\n",
    "y_pred"
   ]
  },
  {
   "cell_type": "code",
   "execution_count": 14,
   "id": "96a0145e",
   "metadata": {},
   "outputs": [
    {
     "name": "stdout",
     "output_type": "stream",
     "text": [
      "r2_score: 0.6430704841260575\n",
      "RMSE : 5147.179949312465\n"
     ]
    }
   ],
   "source": [
    "from sklearn.metrics import r2_score,mean_squared_error\n",
    "print(\"r2_score:\",r2_score(y,y_pred))\n",
    "print(\"RMSE :\",(mean_squared_error(y,y_pred)))"
   ]
  },
  {
   "cell_type": "code",
   "execution_count": 15,
   "id": "3f1d97d1",
   "metadata": {},
   "outputs": [
    {
     "data": {
      "image/png": "[encoded data removed]",
      "text/plain": [
       "<Figure size 432x288 with 1 Axes>"
      ]
     },
     "metadata": {
      "needs_background": "light"
     },
     "output_type": "display_data"
    }
   ],
   "source": [
    "plt.scatter(data[\"Head Size(cm^3)\"],data[\"Brain Weight(grams)\"])\n",
    "plt.plot(x,y_pred,c = \"r\")\n",
    "plt.show()"
   ]
  },
  {
   "cell_type": "code",
   "execution_count": 16,
   "id": "a6f43a34",
   "metadata": {},
   "outputs": [
    {
     "data": {
      "text/plain": [
       "[0.6416304461195703,\n",
       " 0.6430704841260575,\n",
       " 0.643511175321807,\n",
       " 0.6437052787947153,\n",
       " 0.6438594313982895,\n",
       " 0.6439528406059442,\n",
       " 0.6439714184735092,\n",
       " 0.6439060759016915,\n",
       " 0.6437475933365395,\n",
       " 0.6434804940376057,\n",
       " 0.6430781862222363,\n",
       " 0.6425008175491725,\n",
       " 0.6416961634450089]"
      ]
     },
     "execution_count": 16,
     "metadata": {},
     "output_type": "execute_result"
    }
   ],
   "source": [
    "acc = []\n",
    "for i in range(2,15):\n",
    "    poly = PolynomialFeatures(degree = i)\n",
    "    x_poly = poly.fit_transform(x)\n",
    "    model = LinearRegression()\n",
    "    model.fit(x_poly,y)\n",
    "    y_pred = model.predict(x_poly)\n",
    "    acc.append(r2_score(y,y_pred))\n",
    "acc"
   ]
  },
  {
   "cell_type": "code",
   "execution_count": 17,
   "id": "0b83c4b2",
   "metadata": {},
   "outputs": [
    {
     "data": {
      "image/png": "[encoded data removed]",
      "text/plain": [
       "<Figure size 432x288 with 1 Axes>"
      ]
     },
     "metadata": {
      "needs_background": "light"
     },
     "output_type": "display_data"
    }
   ],
   "source": [
    "plt.plot(np.arange(2,15),acc)\n",
    "plt.xlabel(\"Degree of Polynomial Features\")\n",
    "plt.ylabel(\"Accuracy\")\n",
    "plt.grid()\n",
    "plt.title(\"Predicting Non linear Data with Polynomial Features\")\n",
    "plt.show()"
   ]
  }
 ],
 "metadata": {
  "kernelspec": {
   "display_name": "Python 3 (ipykernel)",
   "language": "python",
   "name": "python3"
  },
  "language_info": {
   "codemirror_mode": {
    "name": "ipython",
    "version": 3
   },
   "file_extension": ".py",
   "mimetype": "text/x-python",
   "name": "python",
   "nbconvert_exporter": "python",
   "pygments_lexer": "ipython3",
   "version": "3.9.6"
  }
 },
 "nbformat": 4,
 "nbformat_minor": 5
}
