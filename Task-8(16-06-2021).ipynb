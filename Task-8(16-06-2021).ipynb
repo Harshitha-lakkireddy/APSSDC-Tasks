{
 "cells": [
  {
   "cell_type": "markdown",
   "id": "d3575792",
   "metadata": {},
   "source": [
    "- write a program in module\n",
    "- ask the user to enter the data\n",
    "- check the data if it's camelcase print Like (Thumbsup)emoji\n",
    "- else convert the data into camelcase then speakout\n",
    "- Successfully converted your data into camel case"
   ]
  },
  {
   "cell_type": "code",
   "execution_count": 3,
   "id": "bb201f16",
   "metadata": {},
   "outputs": [],
   "source": [
    "import module"
   ]
  },
  {
   "cell_type": "code",
   "execution_count": 1,
   "id": "99a712e8",
   "metadata": {},
   "outputs": [
    {
     "name": "stdout",
     "output_type": "stream",
     "text": [
      "Defaulting to user installation because normal site-packages is not writeable\n",
      "Collecting emoji\n",
      "  Downloading emoji-1.4.1.tar.gz (185 kB)\n",
      "Using legacy 'setup.py install' for emoji, since package 'wheel' is not installed.\n",
      "Installing collected packages: emoji\n",
      "    Running setup.py install for emoji: started\n",
      "    Running setup.py install for emoji: finished with status 'done'\n",
      "Successfully installed emoji-1.4.1\n"
     ]
    }
   ],
   "source": [
    "!pip install emoji"
   ]
  },
  {
   "cell_type": "code",
   "execution_count": 2,
   "id": "04ab3d1e",
   "metadata": {},
   "outputs": [
    {
     "name": "stdout",
     "output_type": "stream",
     "text": [
      "Defaulting to user installation because normal site-packages is not writeable\n",
      "Collecting camelcase\n",
      "  Downloading camelcase-0.2.tar.gz (1.3 kB)\n",
      "Using legacy 'setup.py install' for camelcase, since package 'wheel' is not installed.\n",
      "Installing collected packages: camelcase\n",
      "    Running setup.py install for camelcase: started\n",
      "    Running setup.py install for camelcase: finished with status 'done'\n",
      "Successfully installed camelcase-0.2\n"
     ]
    }
   ],
   "source": [
    "!pip install camelcase"
   ]
  },
  {
   "cell_type": "code",
   "execution_count": 9,
   "id": "7eb5ecc7",
   "metadata": {},
   "outputs": [
    {
     "name": "stdout",
     "output_type": "stream",
     "text": [
      "Enter the data: hello this is harshitha\n",
      "Hello This is Harshitha\n"
     ]
    }
   ],
   "source": [
    "module.camel_case()"
   ]
  },
  {
   "cell_type": "code",
   "execution_count": 8,
   "id": "7b1873f2",
   "metadata": {},
   "outputs": [
    {
     "name": "stdout",
     "output_type": "stream",
     "text": [
      "Enter the data: Hello This Is Harshitha\n",
      "👍\n"
     ]
    }
   ],
   "source": [
    "module.camel_case()"
   ]
  },
  {
   "cell_type": "code",
   "execution_count": 5,
   "id": "b0798eb7",
   "metadata": {},
   "outputs": [
    {
     "name": "stdout",
     "output_type": "stream",
     "text": [
      "Defaulting to user installation because normal site-packages is not writeable\n",
      "Collecting pyttsx3\n",
      "  Downloading pyttsx3-2.90-py3-none-any.whl (39 kB)\n",
      "Collecting pypiwin32\n",
      "  Downloading pypiwin32-223-py3-none-any.whl (1.7 kB)\n",
      "Collecting comtypes\n",
      "  Downloading comtypes-1.1.10.tar.gz (145 kB)\n",
      "Requirement already satisfied: pywin32 in c:\\program files\\python39\\lib\\site-packages (from pyttsx3) (301)\n",
      "Using legacy 'setup.py install' for comtypes, since package 'wheel' is not installed.\n",
      "Installing collected packages: pypiwin32, comtypes, pyttsx3\n",
      "    Running setup.py install for comtypes: started\n",
      "    Running setup.py install for comtypes: finished with status 'done'\n",
      "Successfully installed comtypes-1.1.10 pypiwin32-223 pyttsx3-2.90\n"
     ]
    }
   ],
   "source": [
    "!pip install pyttsx3"
   ]
  },
  {
   "cell_type": "code",
   "execution_count": null,
   "id": "610e86f9",
   "metadata": {},
   "outputs": [],
   "source": []
  }
 ],
 "metadata": {
  "kernelspec": {
   "display_name": "Python 3 (ipykernel)",
   "language": "python",
   "name": "python3"
  },
  "language_info": {
   "codemirror_mode": {
    "name": "ipython",
    "version": 3
   },
   "file_extension": ".py",
   "mimetype": "text/x-python",
   "name": "python",
   "nbconvert_exporter": "python",
   "pygments_lexer": "ipython3",
   "version": "3.9.6"
  }
 },
 "nbformat": 4,
 "nbformat_minor": 5
}
