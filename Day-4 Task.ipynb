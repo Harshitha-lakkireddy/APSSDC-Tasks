{
 "cells": [
  {
   "cell_type": "markdown",
   "metadata": {},
   "source": [
    "# Day-4(Strings)"
   ]
  },
  {
   "cell_type": "code",
   "execution_count": 1,
   "metadata": {},
   "outputs": [
    {
     "name": "stdout",
     "output_type": "stream",
     "text": [
      "Enter your string: Varshitha\n",
      "9\n",
      "h\n"
     ]
    }
   ],
   "source": [
    "s = str(input('Enter your string: '))\n",
    "print(len(s))\n",
    "if len(s) % 2!= 0:\n",
    "    print(s[len(s)//2])\n",
    "else:\n",
    "    print(s[(len(s)//2)-1],s[len(s)//2])"
   ]
  },
  {
   "cell_type": "code",
   "execution_count": 2,
   "metadata": {},
   "outputs": [
    {
     "name": "stdout",
     "output_type": "stream",
     "text": [
      "Enter your string: Harshi\n",
      "6\n",
      "r s\n"
     ]
    }
   ],
   "source": [
    "s = str(input('Enter your string: '))\n",
    "print(len(s))\n",
    "if len(s) % 2!= 0:\n",
    "    print(s[len(s)//2])\n",
    "else:\n",
    "    print(s[(len(s)//2)-1],s[len(s)//2])"
   ]
  }
 ],
 "metadata": {
  "kernelspec": {
   "display_name": "Python 3",
   "language": "python",
   "name": "python3"
  },
  "language_info": {
   "codemirror_mode": {
    "name": "ipython",
    "version": 3
   },
   "file_extension": ".py",
   "mimetype": "text/x-python",
   "name": "python",
   "nbconvert_exporter": "python",
   "pygments_lexer": "ipython3",
   "version": "3.8.5"
  }
 },
 "nbformat": 4,
 "nbformat_minor": 4
}
